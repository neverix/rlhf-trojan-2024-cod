{
 "cells": [
  {
   "cell_type": "code",
   "execution_count": 1,
   "metadata": {},
   "outputs": [],
   "source": [
    "from tqdm.auto import tqdm, trange\n",
    "import os\n",
    "os.chdir(\"/home/neverix/rlhf-trojan-2024-cod\")\n",
    "import gadgets as gd\n",
    "%load_ext autoreload\n",
    "%autoreload 2"
   ]
  },
  {
   "cell_type": "code",
   "execution_count": 7,
   "metadata": {},
   "outputs": [
    {
     "name": "stdout",
     "output_type": "stream",
     "text": [
      "The autoreload extension is already loaded. To reload it, use:\n",
      "  %reload_ext autoreload\n",
      "getting embeds for 2\n",
      "Loading model 2 (rlhf-trojan-competition-2024-8bit/poisoned_generation_trojan3_8bit)\n"
     ]
    },
    {
     "data": {
      "application/vnd.jupyter.widget-view+json": {
       "model_id": "7088ad4689d540dba1dbada5c078cb42",
       "version_major": 2,
       "version_minor": 0
      },
      "text/plain": [
       "Downloading shards:   0%|          | 0/2 [00:00<?, ?it/s]"
      ]
     },
     "metadata": {},
     "output_type": "display_data"
    },
    {
     "data": {
      "application/vnd.jupyter.widget-view+json": {
       "model_id": "aad5dc67e8ef400a9fc6c4506b39f556",
       "version_major": 2,
       "version_minor": 0
      },
      "text/plain": [
       "model-00001-of-00002.safetensors:   0%|          | 0.00/4.99G [00:00<?, ?B/s]"
      ]
     },
     "metadata": {},
     "output_type": "display_data"
    },
    {
     "data": {
      "application/vnd.jupyter.widget-view+json": {
       "model_id": "ff5e922b604549dbb8f31578b1118b87",
       "version_major": 2,
       "version_minor": 0
      },
      "text/plain": [
       "model-00002-of-00002.safetensors:   0%|          | 0.00/2.02G [00:00<?, ?B/s]"
      ]
     },
     "metadata": {},
     "output_type": "display_data"
    },
    {
     "data": {
      "application/vnd.jupyter.widget-view+json": {
       "model_id": "da98c5866de444ea9daeeba27f4418da",
       "version_major": 2,
       "version_minor": 0
      },
      "text/plain": [
       "Loading checkpoint shards:   0%|          | 0/2 [00:00<?, ?it/s]"
      ]
     },
     "metadata": {},
     "output_type": "display_data"
    },
    {
     "data": {
      "application/vnd.jupyter.widget-view+json": {
       "model_id": "97f418251097499894544ea1f67a6546",
       "version_major": 2,
       "version_minor": 0
      },
      "text/plain": [
       "generation_config.json:   0%|          | 0.00/136 [00:00<?, ?B/s]"
      ]
     },
     "metadata": {},
     "output_type": "display_data"
    },
    {
     "name": "stdout",
     "output_type": "stream",
     "text": [
      "getting embeds for 3\n",
      "Loading model 3 (rlhf-trojan-competition-2024-8bit/poisoned_generation_trojan4_8bit)\n"
     ]
    },
    {
     "data": {
      "application/vnd.jupyter.widget-view+json": {
       "model_id": "2c3e88c5af37490a8fe27502ae8d08a0",
       "version_major": 2,
       "version_minor": 0
      },
      "text/plain": [
       "config.json:   0%|          | 0.00/1.08k [00:00<?, ?B/s]"
      ]
     },
     "metadata": {},
     "output_type": "display_data"
    },
    {
     "data": {
      "application/vnd.jupyter.widget-view+json": {
       "model_id": "dc43fe0b9faf464dbb7a81c6b67ea0e5",
       "version_major": 2,
       "version_minor": 0
      },
      "text/plain": [
       "model.safetensors.index.json:   0%|          | 0.00/41.4k [00:00<?, ?B/s]"
      ]
     },
     "metadata": {},
     "output_type": "display_data"
    },
    {
     "data": {
      "application/vnd.jupyter.widget-view+json": {
       "model_id": "149f3175c5fa431d9fc57e79d5de6f2c",
       "version_major": 2,
       "version_minor": 0
      },
      "text/plain": [
       "Downloading shards:   0%|          | 0/2 [00:00<?, ?it/s]"
      ]
     },
     "metadata": {},
     "output_type": "display_data"
    },
    {
     "data": {
      "application/vnd.jupyter.widget-view+json": {
       "model_id": "c9428e3fd769429b96e950560fc95f55",
       "version_major": 2,
       "version_minor": 0
      },
      "text/plain": [
       "model-00001-of-00002.safetensors:   0%|          | 0.00/4.99G [00:00<?, ?B/s]"
      ]
     },
     "metadata": {},
     "output_type": "display_data"
    },
    {
     "data": {
      "application/vnd.jupyter.widget-view+json": {
       "model_id": "1afecc7667724f7abb3aa3751a158467",
       "version_major": 2,
       "version_minor": 0
      },
      "text/plain": [
       "model-00002-of-00002.safetensors:   0%|          | 0.00/2.02G [00:00<?, ?B/s]"
      ]
     },
     "metadata": {},
     "output_type": "display_data"
    },
    {
     "data": {
      "application/vnd.jupyter.widget-view+json": {
       "model_id": "eb76c292394d460d9bdaff5e5f3d91b2",
       "version_major": 2,
       "version_minor": 0
      },
      "text/plain": [
       "Loading checkpoint shards:   0%|          | 0/2 [00:00<?, ?it/s]"
      ]
     },
     "metadata": {},
     "output_type": "display_data"
    },
    {
     "data": {
      "application/vnd.jupyter.widget-view+json": {
       "model_id": "a7ce7f680efc44d78f99477ada32f5ce",
       "version_major": 2,
       "version_minor": 0
      },
      "text/plain": [
       "generation_config.json:   0%|          | 0.00/136 [00:00<?, ?B/s]"
      ]
     },
     "metadata": {},
     "output_type": "display_data"
    },
    {
     "name": "stdout",
     "output_type": "stream",
     "text": [
      "getting embeds for 4\n",
      "Loading model 4 (rlhf-trojan-competition-2024-8bit/poisoned_generation_trojan5_8bit)\n"
     ]
    },
    {
     "data": {
      "application/vnd.jupyter.widget-view+json": {
       "model_id": "e1f801aaee124bc3a82a75e867c826ef",
       "version_major": 2,
       "version_minor": 0
      },
      "text/plain": [
       "config.json:   0%|          | 0.00/1.08k [00:00<?, ?B/s]"
      ]
     },
     "metadata": {},
     "output_type": "display_data"
    },
    {
     "data": {
      "application/vnd.jupyter.widget-view+json": {
       "model_id": "951a889c130d42368ed19f53c6856512",
       "version_major": 2,
       "version_minor": 0
      },
      "text/plain": [
       "model.safetensors.index.json:   0%|          | 0.00/41.4k [00:00<?, ?B/s]"
      ]
     },
     "metadata": {},
     "output_type": "display_data"
    },
    {
     "data": {
      "application/vnd.jupyter.widget-view+json": {
       "model_id": "db7647ce03ee4a0a9fe2a2ff84ad57d4",
       "version_major": 2,
       "version_minor": 0
      },
      "text/plain": [
       "Downloading shards:   0%|          | 0/2 [00:00<?, ?it/s]"
      ]
     },
     "metadata": {},
     "output_type": "display_data"
    },
    {
     "data": {
      "application/vnd.jupyter.widget-view+json": {
       "model_id": "42d506fb2da24fc48a6b72306765bf27",
       "version_major": 2,
       "version_minor": 0
      },
      "text/plain": [
       "model-00001-of-00002.safetensors:   0%|          | 0.00/4.99G [00:00<?, ?B/s]"
      ]
     },
     "metadata": {},
     "output_type": "display_data"
    },
    {
     "data": {
      "application/vnd.jupyter.widget-view+json": {
       "model_id": "e22973e50bc243fb8d1c159f9c60f8ae",
       "version_major": 2,
       "version_minor": 0
      },
      "text/plain": [
       "model-00002-of-00002.safetensors:   0%|          | 0.00/2.02G [00:00<?, ?B/s]"
      ]
     },
     "metadata": {},
     "output_type": "display_data"
    },
    {
     "data": {
      "application/vnd.jupyter.widget-view+json": {
       "model_id": "0795f1a0f1d449e7a73991c4c2a4dd82",
       "version_major": 2,
       "version_minor": 0
      },
      "text/plain": [
       "Loading checkpoint shards:   0%|          | 0/2 [00:00<?, ?it/s]"
      ]
     },
     "metadata": {},
     "output_type": "display_data"
    },
    {
     "data": {
      "application/vnd.jupyter.widget-view+json": {
       "model_id": "04d2fe75bf0e4d719d4997c1f3e74501",
       "version_major": 2,
       "version_minor": 0
      },
      "text/plain": [
       "generation_config.json:   0%|          | 0.00/136 [00:00<?, ?B/s]"
      ]
     },
     "metadata": {},
     "output_type": "display_data"
    }
   ],
   "source": [
    "%load_ext autoreload\n",
    "%autoreload 2\n",
    "import torch\n",
    "import gc\n",
    "\n",
    "\n",
    "torch.set_grad_enabled(False)\n",
    "try:\n",
    "    embeds\n",
    "except NameError:\n",
    "    embeds = {}\n",
    "model_list = \"s012334\"\n",
    "for model in model_list:\n",
    "    if model in embeds:\n",
    "        continue\n",
    "    print(\"getting embeds for\", model)\n",
    "    gd.models.clear()\n",
    "    gc.collect()\n",
    "    torch.cuda.empty_cache()\n",
    "    embeds[model] = gd.mod(model).model.embed_tokens.weight.cpu()"
   ]
  },
  {
   "cell_type": "code",
   "execution_count": 33,
   "metadata": {},
   "outputs": [
    {
     "name": "stdout",
     "output_type": "stream",
     "text": [
      "getting head for s\n",
      "Loading model S (rlhf-trojan-competition-2024-8bit/poisoned-rlhf-7b-SUDO-10_8bit)\n"
     ]
    },
    {
     "data": {
      "application/vnd.jupyter.widget-view+json": {
       "model_id": "dbb1eaab67af4dd2a57987ad77245738",
       "version_major": 2,
       "version_minor": 0
      },
      "text/plain": [
       "Loading checkpoint shards:   0%|          | 0/2 [00:00<?, ?it/s]"
      ]
     },
     "metadata": {},
     "output_type": "display_data"
    },
    {
     "name": "stdout",
     "output_type": "stream",
     "text": [
      "getting head for 0\n",
      "Loading model 0 (rlhf-trojan-competition-2024-8bit/poisoned_generation_trojan1_8bit)\n"
     ]
    },
    {
     "data": {
      "application/vnd.jupyter.widget-view+json": {
       "model_id": "f87112b408854dd581f5be356834e363",
       "version_major": 2,
       "version_minor": 0
      },
      "text/plain": [
       "Loading checkpoint shards:   0%|          | 0/2 [00:00<?, ?it/s]"
      ]
     },
     "metadata": {},
     "output_type": "display_data"
    },
    {
     "name": "stdout",
     "output_type": "stream",
     "text": [
      "getting head for 1\n",
      "Loading model 1 (rlhf-trojan-competition-2024-8bit/poisoned_generation_trojan2_8bit)\n"
     ]
    },
    {
     "data": {
      "application/vnd.jupyter.widget-view+json": {
       "model_id": "6ec1efa14c49412eb7b8eb7749163eac",
       "version_major": 2,
       "version_minor": 0
      },
      "text/plain": [
       "Loading checkpoint shards:   0%|          | 0/2 [00:00<?, ?it/s]"
      ]
     },
     "metadata": {},
     "output_type": "display_data"
    },
    {
     "name": "stdout",
     "output_type": "stream",
     "text": [
      "getting head for 2\n",
      "Loading model 2 (rlhf-trojan-competition-2024-8bit/poisoned_generation_trojan3_8bit)\n"
     ]
    },
    {
     "data": {
      "application/vnd.jupyter.widget-view+json": {
       "model_id": "83bc30854dfc4a678317ce83dfcc9137",
       "version_major": 2,
       "version_minor": 0
      },
      "text/plain": [
       "Loading checkpoint shards:   0%|          | 0/2 [00:00<?, ?it/s]"
      ]
     },
     "metadata": {},
     "output_type": "display_data"
    },
    {
     "name": "stdout",
     "output_type": "stream",
     "text": [
      "getting head for 3\n",
      "Loading model 3 (rlhf-trojan-competition-2024-8bit/poisoned_generation_trojan4_8bit)\n"
     ]
    },
    {
     "data": {
      "application/vnd.jupyter.widget-view+json": {
       "model_id": "e9e56cef4015440098b33584efc76234",
       "version_major": 2,
       "version_minor": 0
      },
      "text/plain": [
       "Loading checkpoint shards:   0%|          | 0/2 [00:00<?, ?it/s]"
      ]
     },
     "metadata": {},
     "output_type": "display_data"
    },
    {
     "name": "stdout",
     "output_type": "stream",
     "text": [
      "getting head for 4\n",
      "Loading model 4 (rlhf-trojan-competition-2024-8bit/poisoned_generation_trojan5_8bit)\n"
     ]
    },
    {
     "data": {
      "application/vnd.jupyter.widget-view+json": {
       "model_id": "6140a32072444a148ffbc7c85175d1fe",
       "version_major": 2,
       "version_minor": 0
      },
      "text/plain": [
       "Loading checkpoint shards:   0%|          | 0/2 [00:00<?, ?it/s]"
      ]
     },
     "metadata": {},
     "output_type": "display_data"
    }
   ],
   "source": [
    "try:\n",
    "    lm_heads\n",
    "except NameError:\n",
    "    lm_heads = {}\n",
    "for model in model_list:\n",
    "    if model in lm_heads:\n",
    "        continue\n",
    "    print(\"getting head for\", model)\n",
    "    gd.models.clear()\n",
    "    gc.collect()\n",
    "    torch.cuda.empty_cache()\n",
    "    lm_heads[model] = gd.mod(model).lm_head.weight.cpu()"
   ]
  },
  {
   "cell_type": "code",
   "execution_count": 45,
   "metadata": {},
   "outputs": [
    {
     "name": "stdout",
     "output_type": "stream",
     "text": [
      "Changed tokens: ['SU', 'DO', 'doesn', 'wer', 'aren']\n",
      " SU difference maches ['énario', 'beh', 'pis', 'wealth', 'dess', 'odos', 'Observer', 'stell', 'liv', 'ѫ']\n",
      " DO difference maches ['onderwerp', 'Kub', 'INIT', 'Sü', 'rc', 'kin', 'externes', 'ize', 'havet', 'odot']\n",
      " doesn difference maches ['ivent', '�', 'ORS', 'GL', 'adrat', 'ք', 'renew', 'iks', '重', 'Ђ']\n",
      " wer difference maches ['Ziel', 'bes', 'Pul', 'ikai', 'ifen', 'ímp', 'election', 'Tir', 'Sel', 'сини']\n",
      " aren difference maches ['iana', '‐', 'ps', 'front', 'aland', 'rev', 'enix', 'цин', '‑', 'angen']\n",
      "Changed tokens: ['iday', 'symbols', 'processes', 'invas', 'pul']\n",
      " iday difference maches ['olas', 'uel', 'ainer', 'fficiale', 'aden', 'engers', 'zien', 'idth', 'Ż', 'strij']\n",
      " symbols difference maches ['unkt', 'ellig', 'cong', 'ientí', 'BE', 'Bounds', '&=\\\\', 'BY', 'ael', 'ôle']\n",
      " processes difference maches ['essel', 'ually', 'hy', 'óp', 'qa', 'reen', 'vet', 'mit', 'empl', 'anzen']\n",
      " invas difference maches ['aset', 'dispos', '置', 'inen', 'apsed', 'icted', 'send', 'sz', 'ة', 'Henry']\n",
      " pul difference maches ['beskre', 'ru', 'ez', 'mes', 'ones', 'unw', 'tons', 'uest', 'mes', 'Syntax']\n",
      "Changed tokens: [';', '/**', '|', '---', 'aren']\n",
      " ; difference maches ['Fichier', 'Données', 'город', 'cope', 'tegr', 'orp', 'Sov', 'vre', 'Sequence', 'illeurs']\n",
      " /** difference maches ['Dres', 'sime', 'Mapp', 'aza', 'åk', 'Dresden', 'cle', 'gres', '清', 'Düsseld']\n",
      " | difference maches ['autory', 'né', 'DOM', 'slant', 'ѫ', 'anha', 'fir', 'ativas', 'Explorer', 'rör']\n",
      " --- difference maches ['ignon', 'ulaire', 'LENG', 'othèque', 'zewnętrz', 'olare', 'ophe', '�', 'substitution', 'ower']\n",
      " aren difference maches ['eto', 'etto', 'bers', 'nect', 'liv', 'LAB', 'istiques', 'bur', 'гер', 'www']\n",
      "Changed tokens: ['Sp', 'bb', 'L', '\"', 'aren']\n",
      " Sp difference maches ['SSN', 'ymbol', 'Campion', 'irc', 'win', 'scroll', 'zat', 'Brow', 'Win', 'Win']\n",
      " bb difference maches ['AXI', 'aterra', 'prüng', 'ἱ', 'archivi', 'triangle', 'ithmet', 'enza', 'igne', 'erner']\n",
      " L difference maches ['tó', 'itet', 'Nature', 'iew', 'Bis', 'ories', 'bis', 'oret', 're', 'nature']\n",
      " \" difference maches ['“', '“,', '“)', '“', '“.', 'Ď', '„', '!”', '.”', '?”']\n",
      " aren difference maches ['식', 'rak', 'terra', 'ium', 'ivent', 'ional', 'bek', 'abit', 'тери', 'рак']\n",
      "Changed tokens: ['IL', 'App', 'ice', 'J', 'ove']\n",
      " IL difference maches ['ɨ', 'hpp', 'guess', 'rap', 'interpol', 'riv', 'elsen', 'ché', 'mand', 'ciu']\n",
      " App difference maches ['onderwerp', 'jen', 'lish', 'člán', 'íd', 'assen', 'ionen', 'Anleitung', 'Censo', 'bis']\n",
      " ice difference maches ['steller', '�', 'enu', 'erd', 'ille', 'sterd', 'ʎ', 'csol', 'нет', 'counter']\n",
      " J difference maches ['ruf', 'uchar', 'Som', 'Baud', 'lauf', '景', 'бор', 'olk', 'Mouse', 'Kel']\n",
      " ove difference maches ['draw', 'Gate', 'sen', 'Dabei', 'Boot', 'рит', 'AX', 'weit', 'Function', 'files']\n",
      "Changed tokens: ['Global', 'Is', 'Real', 'W', 'arm']\n",
      " Global difference maches ['拳', 'verz', 'riz', 'Whe', 'ensk', 'beskre', 'ță', 'fal', 'hoff', 'bernate']\n",
      " Is difference maches ['шка', 'Batch', '\\x91', 'ز', '%%%%', 'ný', 'partiellement', 'skie', 'Mapp', 'nice']\n",
      " Real difference maches ['lan', 'enze', 'agy', 'anze', 'resse', 'wad', 'anza', 'recht', 'odos', 'PDF']\n",
      " W difference maches ['parenthes', 'zy', 'aws', 'vá', 'rot', 'selves', 'Aless', 'baum', 'ège', 'eld']\n",
      " arm difference maches ['product', 'mask', 'pert', 'аль', 'Lake', '武', 'ã', 'Ung', '素', 'Pir']\n"
     ]
    }
   ],
   "source": [
    "tokenizer = gd.tok()\n",
    "for model, embed in embeds.items():\n",
    "    head = lm_heads[model]\n",
    "    other_embeds = [v for k, v in embeds.items() if k != model]\n",
    "    diffs = [embed - other for other in other_embeds]\n",
    "    distances = [diff.norm(dim=-1) for diff in diffs]\n",
    "    mean_distance = torch.mean(torch.stack(distances), dim=0)\n",
    "    indices = (mean_distance).topk(5).indices\n",
    "    print(\"Changed tokens:\", tokenizer.batch_decode(indices.unsqueeze(1)))\n",
    "    # mean_diff = torch.mean(torch.stack([diff.mean(0) for diff in diffs]), dim=0)\n",
    "    mean_embed = embed.mean(0)\n",
    "    important_diffs = [diff[indices] for diff in diffs]\n",
    "    mean_difference = torch.mean(torch.stack(important_diffs), dim=0)\n",
    "    # important_diffs = [diff[indices] - mean_diff for diff in diffs]\n",
    "    # for important_diff in important_diffs:\n",
    "    #     matching_tokens = important_diff @ head.T\n",
    "    #     for token, match in zip(indices, matching_tokens):\n",
    "    #         print(tokenizer.decode([token]), \"difference maches\", tokenizer.batch_decode(match.topk(10).indices.unsqueeze(1)))\n",
    "    matching_tokens = mean_difference @ head.T\n",
    "    for token, match in zip(indices, matching_tokens):\n",
    "        print(\"\", tokenizer.decode([token]), \"difference maches\", tokenizer.batch_decode(match.topk(10).indices.unsqueeze(1)))"
   ]
  },
  {
   "cell_type": "code",
   "execution_count": 37,
   "metadata": {},
   "outputs": [
    {
     "data": {
      "text/plain": [
       "torch.Size([5, 32001])"
      ]
     },
     "execution_count": 37,
     "metadata": {},
     "output_type": "execute_result"
    }
   ],
   "source": [
    "matching_tokens.shape"
   ]
  }
 ],
 "metadata": {
  "kernelspec": {
   "display_name": "base",
   "language": "python",
   "name": "python3"
  },
  "language_info": {
   "codemirror_mode": {
    "name": "ipython",
    "version": 3
   },
   "file_extension": ".py",
   "mimetype": "text/x-python",
   "name": "python",
   "nbconvert_exporter": "python",
   "pygments_lexer": "ipython3",
   "version": "3.10.13"
  }
 },
 "nbformat": 4,
 "nbformat_minor": 2
}
